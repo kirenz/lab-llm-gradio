{
    "cells": [
        {
            "cell_type": "markdown",
            "metadata": {},
            "source": [
                "# Image Captioning App \n",
                "\n",
                "In this tutorial, you'll create an image captioning app with a Gradio interface.\n",
                "\n",
                "*This tutorial is mainly based on an excellent course provided by Isa Fulford from OpenAI and Andrew Ng from DeepLearning.AI.*\n",
                "\n",
                "## Setup\n",
                "\n",
                "## Python\n",
                "\n",
                "Load your HF API key and relevant Python libraries.\n"
            ]
        },
        {
            "cell_type": "code",
            "metadata": {},
            "source": [
                "import gradio as gr\n",
                "import os\n",
                "import io\n",
                "import requests\n",
                "import json\n",
                "import IPython.display\n",
                "from PIL import Image\n",
                "import base64\n",
                "from transformers import pipeline\n",
                "from dotenv import load_dotenv, find_dotenv\n",
                "_ = load_dotenv(find_dotenv())  # read local .env file\n",
                "hf_api_key = os.environ['HF_API_KEY']"
            ],
            "execution_count": null,
            "outputs": []
        },
        {
            "cell_type": "markdown",
            "metadata": {},
            "source": [
                "## Image captioning model\n",
                "\n",
                "Here we'll be using the Salesforce/blip-image-captioning-base a 14M parameter captioning model.\n"
            ]
        },
        {
            "cell_type": "code",
            "metadata": {},
            "source": [
                "get_completion = pipeline(\n",
                "    \"image-to-text\", model=\"Salesforce/blip-image-captioning-base\")\n",
                "\n",
                "\n",
                "def summarize(input):\n",
                "    output = get_completion(input)\n",
                "    return output[0]['generated_text']\n"
            ],
            "execution_count": null,
            "outputs": []
        },
        {
            "cell_type": "markdown",
            "metadata": {},
            "source": [
                "## API-code (optional) {.smaller}\n",
                "\n",
                "- Optional: Here is the code for the API-version:"
            ]
        },
        {
            "cell_type": "code",
            "metadata": {},
            "source": [
                "# Image-to-text endpoint (with API)\n",
                "# def get_completion(inputs, parameters=None, ENDPOINT_URL=os.environ['HF_API_ITT_BASE']):\n",
                "#     headers = {\n",
                "#       \"Authorization\": f\"Bearer {hf_api_key}\",\n",
                "#       \"Content-Type\": \"application/json\"\n",
                "#     }\n",
                "#     data = { \"inputs\": inputs }\n",
                "#     if parameters is not None:\n",
                "#         data.update({\"parameters\": parameters})\n",
                "#     response = requests.request(\"POST\",\n",
                "#                                 ENDPOINT_URL,\n",
                "#                                 headers=headers,\n",
                "#                                 data=json.dumps(data))\n",
                "#     return json.loads(response.content.decode(\"utf-8\"))"
            ],
            "execution_count": null,
            "outputs": []
        },
        {
            "cell_type": "markdown",
            "metadata": {},
            "source": [
                "# Image Captioning\n",
                "\n",
                "## Image example\n",
                "\n",
                "- Free images are available on: https://free-images.com/"
            ]
        },
        {
            "cell_type": "code",
            "metadata": {},
            "source": [
                "image_url = \"https://free-images.com/sm/9596/dog_animal_greyhound_983023.jpg\"\n",
                "\n",
                "display(IPython.display.Image(url=image_url))"
            ],
            "execution_count": null,
            "outputs": []
        },
        {
            "cell_type": "markdown",
            "metadata": {},
            "source": [
                "## Model output"
            ]
        },
        {
            "cell_type": "code",
            "metadata": {},
            "source": [
                "get_completion(image_url)"
            ],
            "execution_count": null,
            "outputs": []
        },
        {
            "cell_type": "markdown",
            "metadata": {},
            "source": [
                "- [{'generated_text': 'a dog wearing a santa hat and a red scarf'}]\n",
                "\n",
                "## Captioning with gr.Interface()"
            ]
        },
        {
            "cell_type": "code",
            "metadata": {},
            "source": [
                "def captioner(input):\n",
                "    result = get_completion(input)\n",
                "    return result[0]['generated_text']\n",
                "\n",
                "\n",
                "gr.close_all()\n",
                "demo = gr.Interface(fn=captioner,\n",
                "                    inputs=[gr.Image(label=\"Upload image\", type=\"pil\")],\n",
                "                    outputs=[gr.Textbox(label=\"Caption\")],\n",
                "                    title=\"Image Captioning with BLIP\",\n",
                "                    description=\"Caption any image using the BLIP model\",\n",
                "                    allow_flagging=\"never\"\n",
                "                    # examples=[\"your_image.jpeg\", \"your_image_2.jpeg\"]\n",
                "                    )\n",
                "\n",
                "\n",
                "demo.launch(share=True)"
            ],
            "execution_count": null,
            "outputs": []
        },
        {
            "cell_type": "markdown",
            "metadata": {},
            "source": [
                "## Gradio interface\n",
                "\n",
                "![](/images/image_app_1.png)\n",
                "\n",
                "## Gradio output\n",
                "\n",
                "![](/images/image_app_2.png)\n",
                "\n",
                "\n",
                "## API version (optional)\n",
                "\n",
                "- Optional: Use this code if you want to use the API\n"
            ]
        },
        {
            "cell_type": "code",
            "metadata": {},
            "source": [
                "# converts image to base 64 format (required for API)\n",
                "\n",
                "\n",
                "def image_to_base64_str(pil_image):\n",
                "    byte_arr = io.BytesIO()\n",
                "    pil_image.save(byte_arr, format='PNG')\n",
                "    byte_arr = byte_arr.getvalue()\n",
                "    return str(base64.b64encode(byte_arr).decode('utf-8'))\n",
                "\n",
                "\n",
                "def captioner(image):\n",
                "    base64_image = image_to_base64_str(image)\n",
                "    result = get_completion(base64_image)\n",
                "    return result[0]['generated_text']\n",
                "\n",
                "\n",
                "gr.close_all()\n",
                "demo = gr.Interface(fn=captioner,\n",
                "                    inputs=[gr.Image(label=\"Upload image\", type=\"pil\")],\n",
                "                    outputs=[gr.Textbox(label=\"Caption\")],\n",
                "                    title=\"Image Captioning with BLIP\",\n",
                "                    description=\"Caption any image using the BLIP model\",\n",
                "                    allow_flagging=\"never\"\n",
                "                    # examples=[\"christmas_dog.jpeg\", \"bird_flight.jpeg\", \"cow.jpeg\"]\n",
                "                    )\n",
                "\n",
                "\n",
                "demo.launch(share=True, server_port=int(os.environ['PORT1']))"
            ],
            "execution_count": null,
            "outputs": []
        },
        {
            "cell_type": "markdown",
            "metadata": {},
            "source": [
                "## Close all connections"
            ]
        },
        {
            "cell_type": "code",
            "metadata": {},
            "source": [
                "gr.close_all()"
            ],
            "execution_count": null,
            "outputs": []
        }
    ],
    "metadata": {
        "kernelspec": {
            "name": "python3",
            "language": "python",
            "display_name": "Python 3 (ipykernel)"
        }
    },
    "nbformat": 4,
    "nbformat_minor": 4
}